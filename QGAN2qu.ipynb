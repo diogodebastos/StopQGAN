{
 "cells": [
  {
   "cell_type": "markdown",
   "id": "published-rotation",
   "metadata": {},
   "source": [
    "# QGAN"
   ]
  },
  {
   "cell_type": "markdown",
   "id": "superior-providence",
   "metadata": {},
   "source": [
    "One of the main objectives of CERN Quantum Technology Initiative (CERN QTI) is to investigate if quantum computing can be used in the field of high-energy physics. In this project we will explore the idea behing Quantum Generative Adversarial Networks (QGANs) as a way to generate High Energy Physics (HEP) data. \n",
    "\n",
    "QGANs are fundamentally composed of two Quantum Neural Networks (QNNs) - a generator and a discriminator one - that compete between each other. The generative network generates candidates while the discriminative network evaluates them. The contest operates in terms of data distributions. Typically, the generative network learns to map from a latent space to a data distribution of interest, while the discriminative network distinguishes candidates produced by the generator from the true data distribution. The generative network's training objective is to increase the error rate of the discriminative network (i.e., \"fool\" the discriminator network by producing novel candidates that the discriminator thinks are not synthesized (are part of the true data distribution)).\n",
    "\n",
    "This project will focus on the technical implementation details of a QGAN that can generate a 2-qubit state."
   ]
  },
  {
   "cell_type": "code",
   "execution_count": null,
   "id": "blond-mortgage",
   "metadata": {},
   "outputs": [],
   "source": [
    "import uproot\n",
    "import matplotlib as mpl\n",
    "import matplotlib.pyplot as plt\n",
    "from matplotlib import cm\n",
    "from sklearn.preprocessing import minmax_scale\n",
    "from qutip import *\n",
    "\n",
    "import numpy as np\n",
    "import pandas as pd\n",
    "import pennylane as qml\n",
    "import tensorflow as tf\n",
    "%matplotlib inline\n",
    "np.set_printoptions(suppress=True)"
   ]
  },
  {
   "cell_type": "markdown",
   "id": "common-belief",
   "metadata": {},
   "source": [
    "## Prepare real data: Stop"
   ]
  },
  {
   "cell_type": "code",
   "execution_count": null,
   "id": "bigger-flooring",
   "metadata": {},
   "outputs": [],
   "source": [
    "path = \"/Users/ketchum/Desktop/STOP_nTuples/\"\n",
    "tuples = \"nTuples17_nanoAOD_v2021-10-15_test/\"\n",
    "\n",
    "signal = \"T2DegStop_550_520_bdt\"\n",
    "treename=\"bdttree\"\n",
    "\n",
    "branches = [\"LepPt\",\"LepChg\",\"LepEta\",\"Met\",\"Jet1Pt\",\"mt\",\"HT\", \"NbLoose\",\"Njet\", \"JetHBpt\", \"DrJetHBLep\",\n",
    "              \"JetHBDeepCSV\",\"XS\",\"Nevt\",\"Event\",\"weight\"]\n",
    "\n",
    "preSel = \"(LepPt < 30) & (Met > 280) & (HT > 200) & (Jet1Pt > 110) & ((DPhiJet1Jet2 < 2.5) | (Jet2Pt < 60)) & (isTight == 1)\\\n",
    "         & (Met < 1000) & (mt < 300)\""
   ]
  },
  {
   "cell_type": "code",
   "execution_count": null,
   "id": "empty-radar",
   "metadata": {},
   "outputs": [],
   "source": [
    "# load root files\n",
    "sgTree = uproot.open(path + tuples + signal +\".root:\"+treename)\n",
    "\n",
    "# select important events\n",
    "sgDict = sgTree.arrays(branches,preSel,library=\"np\")"
   ]
  },
  {
   "cell_type": "code",
   "execution_count": null,
   "id": "frank-benchmark",
   "metadata": {},
   "outputs": [],
   "source": [
    "lumi = 414759\n",
    "splitFactor = 2\n",
    "\n",
    "sgLepPt  = sgDict[\"LepPt\"]\n",
    "sgLepChg = sgDict[\"LepChg\"]\n",
    "sgLepEta = sgDict[\"LepEta\"]\n",
    "\n",
    "sgMet = sgDict[\"Met\"]\n",
    "sgmt  = sgDict[\"mt\"]\n",
    "sgDR = sgDict[\"DrJetHBLep\"]\n",
    "\n",
    "sgW = sgDict[\"XS\"]/sgDict[\"Nevt\"]\n",
    "wei = sgW*lumi*splitFactor"
   ]
  },
  {
   "cell_type": "code",
   "execution_count": null,
   "id": "exotic-neighborhood",
   "metadata": {},
   "outputs": [],
   "source": [
    "plotFeatures = False\n",
    "\n",
    "if plotFeatures:\n",
    "    plt.rcParams['figure.figsize'] = [15,10]\n",
    "    fig, axs = plt.subplots(2, 3)\n",
    "    ax1 = axs[0, 0]\n",
    "    ax2 = axs[0, 1]\n",
    "    ax3 = axs[0, 2]\n",
    "    ax4 = axs[1, 0]\n",
    "    ax5 = axs[1, 1]\n",
    "    ax6 = axs[1, 2]\n",
    "    \n",
    "    label=[\"Signal\"]\n",
    "    \n",
    "    binning=np.arange(0,30,1)\n",
    "    ax1.hist(sgLepPt, weights = wei,color = \"blue\", alpha=0.25)\n",
    "    ax1.legend(label, loc='best')\n",
    "    ax1.set_xlim([0, 30])\n",
    "    ax1.set_xlabel(\"$p_T(Lepton)$ [GeV]\")\n",
    "\n",
    "    binning=np.arange(-2,2,0.5)\n",
    "    ax2.hist(sgLepChg, weights = wei,color = \"blue\", alpha=0.25)\n",
    "    ax2.legend(label, loc='best')\n",
    "    ax2.set_xlim([-1.5, 1.5])\n",
    "    ax2.set_xlabel(\"Lepton Charge\")\n",
    "\n",
    "    minb=-3\n",
    "    maxb=3\n",
    "    nbins=20.\n",
    "    step=(maxb-minb)/nbins\n",
    "    binning=np.arange(minb,maxb,step)\n",
    "    ax3.hist(sgLepEta, binning, weights = wei,color = \"blue\", alpha=0.25)\n",
    "    ax3.legend(label, loc='best')\n",
    "    ax3.set_xlim([-3, 3])\n",
    "    ax3.set_xlabel(\"$\\eta$ (Lepton)\")\n",
    "\n",
    "    minb=280\n",
    "    maxb=1000\n",
    "    nbins=36\n",
    "    step=(maxb-minb)/nbins\n",
    "    binning=np.arange(minb,maxb,step)\n",
    "    ax4.hist(sgMet, binning, weights = wei,color = \"blue\", alpha=0.25)\n",
    "    ax4.legend(label, loc='best')\n",
    "    ax4.set_xlim([280, 1000])\n",
    "    ax4.set_xlabel(\"$p_T^{miss}$ [GeV]\")\n",
    "    \n",
    "    minb=0\n",
    "    maxb=300\n",
    "    nbins=20\n",
    "    step=(maxb-minb)/nbins\n",
    "    binning=np.arange(minb,maxb,step)\n",
    "    ax5.hist(sgmt, binning, weights = wei,color = \"blue\", alpha=0.25)\n",
    "    ax5.legend(label, loc='best')\n",
    "    ax5.set_xlim([0, 300])\n",
    "    ax5.set_xlabel(\"$M_T$ [GeV]\")\n",
    "    \n",
    "    minb=0\n",
    "    maxb=4\n",
    "    nbins=20\n",
    "    step=(maxb-minb)/nbins\n",
    "    binning=np.arange(minb,maxb,step)\n",
    "    ax6.hist(sgDR, binning, weights = wei,color = \"blue\", alpha=0.25)\n",
    "    ax6.legend(label, loc='best')\n",
    "    ax6.set_xlim([0, 4])\n",
    "    ax6.set_xlabel(\"$\\Delta R(J_{B1},lepton)$\")"
   ]
  },
  {
   "cell_type": "code",
   "execution_count": null,
   "id": "innocent-burton",
   "metadata": {},
   "outputs": [],
   "source": [
    "doDataFrame = False \n",
    "\n",
    "if doDataFrame:\n",
    "    sgDF = pd.DataFrame(sgDict)\n",
    "    display(sgDF)"
   ]
  },
  {
   "cell_type": "code",
   "execution_count": null,
   "id": "absent-penetration",
   "metadata": {},
   "outputs": [],
   "source": [
    "lepChg_to_phi = minmax_scale(sgLepChg, feature_range=(0, np.pi))\n",
    "lepPt_to_theta = minmax_scale(sgLepPt, feature_range=(0, np.pi))\n",
    "lepEta_to_phi = minmax_scale(sgLepEta, feature_range=(0, 2*np.pi))\n",
    "Met_to_theta = minmax_scale(sgMet, feature_range=(0, np.pi))\n",
    "\n",
    "#lepPt_to_phi    = minmax_scale(sgLepPt, feature_range=(0, np.pi))\n",
    "#lepChg_to_theta = minmax_scale(sgLepChg, feature_range=(0, np.pi))\n",
    "#lepEta_to_omega = minmax_scale(sgLepEta, feature_range=(0, np.pi)) #2*np.pi))\n",
    "\n",
    "#Met_to_phi  = minmax_scale(sgMet, feature_range=(0, np.pi))\n",
    "#mt_to_theta = minmax_scale(sgmt, feature_range=(0, np.pi))\n",
    "#DR_to_omega = minmax_scale(sgDR, feature_range=(0, np.pi))"
   ]
  },
  {
   "cell_type": "code",
   "execution_count": null,
   "id": "simplified-senegal",
   "metadata": {},
   "outputs": [],
   "source": [
    "plotAngleTransform = False\n",
    "\n",
    "if plotAngleTransform:\n",
    "    plt.rcParams['figure.figsize'] = [15,10]\n",
    "    fig, axs = plt.subplots(2, 3)\n",
    "    ax1 = axs[0, 0]\n",
    "    ax2 = axs[0, 1]\n",
    "    ax3 = axs[0, 2]\n",
    "    ax4 = axs[1, 0]\n",
    "    ax5 = axs[1, 1]\n",
    "    ax6 = axs[1, 2]\n",
    "    \n",
    "    label=[\"Signal Transformed\"]\n",
    "   \n",
    "    ax1.hist(lepPt_to_phi, weights = wei,color = \"blue\", alpha=0.25)\n",
    "    ax1.legend(label, loc='best')\n",
    "    ax1.set_xlim([0, np.pi])\n",
    "    ax1.set_xlabel(\"$p_T(Lepton)$ [$\\phi$ rad]\")\n",
    "    \n",
    "    ax2.hist(lepChg_to_theta, weights = wei,color = \"blue\", alpha=0.25)\n",
    "    ax2.legend(label, loc='best')\n",
    "    ax2.set_xlim([0, np.pi])\n",
    "    ax2.set_xlabel(\"Lepton Charge [$\\Theta$ rad]\")\n",
    "\n",
    "    minb=0\n",
    "    maxb=n2*np.pi#np.pi\n",
    "    nbins=20.\n",
    "    step=(maxb-minb)/nbins\n",
    "    binning=np.arange(minb,maxb,step)\n",
    "    ax3.hist(lepEta_to_omega, binning, weights = wei,color = \"blue\", alpha=0.25)\n",
    "    ax3.legend(label, loc='best')\n",
    "    ax3.set_xlim([0, np.pi]) #2*np.pi])\n",
    "    ax3.set_xlabel(\"$\\eta$ (Lepton) [$\\omega$ rad]\")      \n",
    "    \n",
    "    minb=0\n",
    "    maxb=np.pi\n",
    "    nbins=36\n",
    "    step=(maxb-minb)/nbins\n",
    "    binning=np.arange(minb,maxb,step)\n",
    "    ax4.hist(Met_to_phi, binning, weights = wei,color = \"blue\", alpha=0.25)\n",
    "    ax4.legend(label, loc='best')\n",
    "    ax4.set_xlim([0, np.pi])\n",
    "    ax4.set_xlabel(\"$p_T^{miss}$ [$\\phi$ rad]\")\n",
    "    \n",
    "    minb=0\n",
    "    maxb=np.pi\n",
    "    nbins=20\n",
    "    step=(maxb-minb)/nbins\n",
    "    binning=np.arange(minb,maxb,step)\n",
    "    ax5.hist(mt_to_theta, binning, weights = wei,color = \"blue\", alpha=0.25)\n",
    "    ax5.legend(label, loc='best')\n",
    "    ax4.set_xlim([0, np.pi])\n",
    "    ax5.set_xlabel(\"$M_T$ [$\\Theta$ rad]\")\n",
    "    \n",
    "    minb=0\n",
    "    maxb=np.pi\n",
    "    nbins=20\n",
    "    step=(maxb-minb)/nbins\n",
    "    binning=np.arange(minb,maxb,step)\n",
    "    ax6.hist(DR_to_omega, binning, weights = wei,color = \"blue\", alpha=0.25)\n",
    "    ax6.legend(label, loc='best')\n",
    "    ax4.set_xlim([0, np.pi])\n",
    "    ax6.set_xlabel(\"$\\Delta R(J_{B1},lepton)$ [$\\omega$ rad]\")"
   ]
  },
  {
   "cell_type": "markdown",
   "id": "offshore-consideration",
   "metadata": {},
   "source": []
  },
  {
   "cell_type": "code",
   "execution_count": null,
   "id": "premier-yield",
   "metadata": {},
   "outputs": [],
   "source": [
    "def spherical_to_cartesian(theta,phi):\n",
    "    x = np.sin(theta)*np.cos(phi)\n",
    "    y = np.sin(theta)*np.sin(phi)\n",
    "    z = np.cos(theta)\n",
    "    return x,y,z\n",
    "\n",
    "def cartesian_to_spherical(x,y,z):\n",
    "    if x > 0:\n",
    "        phi = np.arctan(y/x)\n",
    "    elif x < 0 and y >= 0:\n",
    "        phi = np.arctan(y/x) + np.pi\n",
    "    elif x < 0 and y < 0:\n",
    "        phi = np.arctan(y/x) - np.pi\n",
    "    elif x == 0 and y > 0:\n",
    "        phi = np.pi/2\n",
    "    elif x == 0 and y < 0:\n",
    "        phi = -np.pi/2\n",
    "    elif x == 0 and y == 0:\n",
    "        phi = 0 # Undefined\n",
    "\n",
    "    theta = np.arctan((np.sqrt(x**2+y**2))/z)\n",
    "    return theta, phi"
   ]
  },
  {
   "cell_type": "code",
   "execution_count": null,
   "id": "figured-session",
   "metadata": {},
   "outputs": [],
   "source": [
    "tlist = np.linspace(0, 1, 40)\n",
    "#nrm = mpl.colors.Normalize()\n",
    "#colors = cm.cool(nrm(tlist))\n",
    "colors = cm.cool(tlist)"
   ]
  },
  {
   "cell_type": "code",
   "execution_count": null,
   "id": "distinct-capture",
   "metadata": {},
   "outputs": [],
   "source": [
    "generateAssets = False\n",
    "\n",
    "if generateAssets:\n",
    "    bloch1 = Bloch()\n",
    "    bloch2 = Bloch()\n",
    "    c = 0\n",
    "    for i in range(0,3400,85):\n",
    "        x1,y1,z1=spherical_to_cartesian(lepPt_to_theta[i],lepChg_to_phi[i])\n",
    "        x2,y2,z2=spherical_to_cartesian(Met_to_theta[i],lepEta_to_phi[i])\n",
    "        vec1=[x1,y1,z1]\n",
    "        vec2=[x2,y2,z2]\n",
    "        #vec1=[lepPt_to_phi[i],lepChg_to_theta[i],lepEta_to_omega[i]]\n",
    "        #vec2=[Met_to_phi[i],mt_to_theta[i],DR_to_omega[i]]\n",
    "\n",
    "        bloch_ev_1 = Bloch()\n",
    "        bloch_ev_2 = Bloch()\n",
    "        bloch1.add_vectors(vec1)\n",
    "        bloch2.add_vectors(vec2)\n",
    "        bloch_ev_1.add_vectors(vec1)\n",
    "        bloch_ev_2.add_vectors(vec2)\n",
    "        bloch_ev_1.vector_color = list(colors[c:])\n",
    "        bloch_ev_2.vector_color = list(colors[c:])\n",
    "        bloch_ev_1.save(\"assets/bloch_event\"+str(i)+\"_1.png\")\n",
    "        bloch_ev_2.save(\"assets/bloch_event\"+str(i)+\"_2.png\")\n",
    "        c+=1\n",
    "\n",
    "    bloch1.vector_color = list(colors)\n",
    "    bloch2.vector_color = list(colors)    \n",
    "\n",
    "    bloch1.save(\"assets/bloch1.png\")\n",
    "    bloch2.save(\"assets/bloch2.png\")"
   ]
  },
  {
   "cell_type": "code",
   "execution_count": null,
   "id": "solved-rubber",
   "metadata": {},
   "outputs": [],
   "source": [
    "ev_idx = 42\n",
    "\n",
    "ev_idx = 2040\n",
    "ev_idx = 680"
   ]
  },
  {
   "cell_type": "markdown",
   "id": "therapeutic-developer",
   "metadata": {},
   "source": [
    "| Event 680 Bloch 1: Lepton Charge and pT  | Event 680 Bloch 2: Lepton Eta and Met |\n",
    "|-|-|\n",
    "|<div> <img src=\"assets/bloch_event680_1.png\" width=\"250\"/></div>|<div><img src=\"assets/bloch_event680_2.png\" width=\"250\"/></div>|\n",
    "\n",
    "| Event 2040 Bloch 1: Lepton Charge and pT  | Event 2040 Bloch 2: Lepton Eta and Met |\n",
    "|-|-|\n",
    "|<div> <img src=\"assets/bloch_event2040_1.png\" width=\"250\"/></div>|<div><img src=\"assets/bloch_event2040_2.png\" width=\"250\"/></div>|"
   ]
  },
  {
   "cell_type": "markdown",
   "id": "aboriginal-aircraft",
   "metadata": {},
   "source": [
    "| Bloch 1: Lepton Charge and pT  | Bloch 2: Lepton Eta and Met |\n",
    "|-|-|\n",
    "|<div> <img src=\"assets/bloch1.png\" width=\"250\"/></div>|<div><img src=\"assets/bloch2.png\" width=\"250\"/></div>|\n",
    "\n"
   ]
  },
  {
   "cell_type": "code",
   "execution_count": null,
   "id": "artificial-brooklyn",
   "metadata": {},
   "outputs": [],
   "source": [
    "angles=[lepPt_to_theta[ev_idx],lepChg_to_phi[ev_idx],Met_to_theta[ev_idx],lepEta_to_phi[ev_idx]]\n",
    "\n",
    "x1,y1,z1=spherical_to_cartesian(lepPt_to_theta[ev_idx],lepChg_to_phi[ev_idx])\n",
    "x2,y2,z2=spherical_to_cartesian(Met_to_theta[ev_idx],lepEta_to_phi[ev_idx])"
   ]
  },
  {
   "cell_type": "code",
   "execution_count": null,
   "id": "sixth-clear",
   "metadata": {},
   "outputs": [],
   "source": [
    "#ev_idx = 0\n",
    "#angles=[lepPt_to_phi[ev_idx],lepChg_to_theta[ev_idx],lepEta_to_omega[ev_idx],\n",
    "#        Met_to_phi[ev_idx],mt_to_theta[ev_idx],DR_to_omega[ev_idx]]"
   ]
  },
  {
   "cell_type": "code",
   "execution_count": null,
   "id": "relative-thing",
   "metadata": {},
   "outputs": [],
   "source": [
    "print(angles)"
   ]
  },
  {
   "cell_type": "markdown",
   "id": "martial-teens",
   "metadata": {},
   "source": [
    "## Quantum"
   ]
  },
  {
   "cell_type": "markdown",
   "id": "loaded-brand",
   "metadata": {},
   "source": [
    "Using a **5-qubit** simulator device running in Cirq:\n",
    "- Qubit **0 & 1**: the 2 qubit state that we are trying to generate\n",
    "- Qubit **2 & 3**: the generator's playground\n",
    "- Qubit **4**: the generator's guess\n"
   ]
  },
  {
   "cell_type": "code",
   "execution_count": null,
   "id": "senior-collins",
   "metadata": {},
   "outputs": [],
   "source": [
    "#dev = qml.device('cirq.simulator', wires=5)\n",
    "dev = qml.device('qiskit.aer', wires=5)"
   ]
  },
  {
   "cell_type": "code",
   "execution_count": null,
   "id": "honest-session",
   "metadata": {},
   "outputs": [],
   "source": [
    "def real(angles, **kwargs):\n",
    "    #qml.Hadamard(wires=0)\n",
    "    qml.RY(angles[0], wires=0)\n",
    "    qml.RZ(angles[1], wires=0)\n",
    "    qml.RY(angles[2], wires=1)\n",
    "    qml.RZ(angles[3], wires=1)\n",
    "    #qml.CNOT(wires=[0,1])      # should 2 qubits be entangled?\n",
    "\n",
    "def real_rand(angles, **kwargs):\n",
    "    qml.Hadamard(wires=0)\n",
    "    qml.CNOT(wires=[0,1])\n",
    "    qml.RX(angles[0], wires=0)\n",
    "    qml.RY(angles[1], wires=0)\n",
    "    qml.RZ(angles[2], wires=0)\n",
    "    qml.RX(angles[3], wires=0)\n",
    "    qml.RY(angles[4], wires=0)\n",
    "    qml.RZ(angles[5], wires=0)\n",
    "    qml.CNOT(wires=[0, 1])\n",
    "    qml.RX(angles[3], wires=1)\n",
    "    qml.RY(angles[4], wires=1)\n",
    "    qml.RZ(angles[5], wires=1)\n",
    "    qml.RX(angles[0], wires=1)\n",
    "    qml.RY(angles[1], wires=1)\n",
    "    qml.RZ(angles[2], wires=1)"
   ]
  },
  {
   "cell_type": "markdown",
   "id": "adjustable-creature",
   "metadata": {},
   "source": [
    "## Generator"
   ]
  },
  {
   "cell_type": "markdown",
   "id": "synthetic-rabbit",
   "metadata": {},
   "source": [
    "<div> <img src=\"assets/generator.png\"/></div>"
   ]
  },
  {
   "cell_type": "code",
   "execution_count": null,
   "id": "settled-messenger",
   "metadata": {},
   "outputs": [],
   "source": [
    "# Define the generator\n",
    "# Wires 0 and 1 are the 2 qubit state.\n",
    "# We need 45 weights: 11 x 3 generator layers + 11 for final generation layer\n",
    "\n",
    "def generator(w, **kwargs):\n",
    "    qml.Hadamard(wires=0)\n",
    "    #qml.Hadamard(wires=1)\n",
    "    qml.CNOT(wires=[0,1])\n",
    "    qml.Barrier(wires=[0,4],only_visual=True)\n",
    "    generator_layer(w[:11])\n",
    "    generator_layer(w[11:22])\n",
    "    generator_layer(w[22:33])\n",
    "    qml.RX(w[33], wires=0)\n",
    "    qml.RY(w[34], wires=0)\n",
    "    qml.RZ(w[35], wires=0)\n",
    "    qml.RX(w[36], wires=1)\n",
    "    qml.RY(w[37], wires=1)\n",
    "    qml.RZ(w[38], wires=1)\n",
    "    qml.CNOT(wires=[0, 1])\n",
    "    qml.RX(w[39], wires=0)\n",
    "    qml.RY(w[40], wires=0)\n",
    "    qml.RZ(w[41], wires=0)\n",
    "    qml.RX(w[42], wires=1)\n",
    "    qml.RY(w[43], wires=1)\n",
    "    qml.RZ(w[44], wires=1)\n",
    "\n",
    "def generator_layer(w):\n",
    "    qml.RY(w[0], wires=0)\n",
    "    qml.RY(w[1], wires=1)\n",
    "    qml.RY(w[2], wires=2)\n",
    "    qml.RY(w[3], wires=3)\n",
    "    qml.RZ(w[4], wires=0)\n",
    "    qml.RZ(w[5], wires=1)\n",
    "    qml.RZ(w[6], wires=2)\n",
    "    qml.RZ(w[7], wires=3)\n",
    "    qml.MultiRZ(w[8], wires=[0, 1])\n",
    "    qml.MultiRZ(w[9], wires=[2, 3])\n",
    "    qml.MultiRZ(w[10], wires=[1, 2])\n",
    "    # 11 weights"
   ]
  },
  {
   "cell_type": "markdown",
   "id": "medium-instrumentation",
   "metadata": {},
   "source": [
    "## Discriminator"
   ]
  },
  {
   "cell_type": "markdown",
   "id": "every-single",
   "metadata": {},
   "source": [
    "<div> <img src=\"assets/discriminator.png\" width=\"750\"/></div>"
   ]
  },
  {
   "cell_type": "code",
   "execution_count": null,
   "id": "hungarian-example",
   "metadata": {},
   "outputs": [],
   "source": [
    "# The discriminator acts on wires 0, 1, and 4\n",
    "# We need 27 weights: 8 x 3 generator layers + 3 for final descrimination layer\n",
    "\n",
    "def discriminator(w, **kwargs):\n",
    "    qml.Barrier(wires=[0,4],only_visual=True)\n",
    "    qml.Hadamard(wires=0)\n",
    "    #qml.Hadamard(wires=1)\n",
    "    qml.CNOT(wires=[0,1])\n",
    "    qml.Barrier(wires=[0,4],only_visual=True)\n",
    "    discriminator_layer(w[:8])\n",
    "    discriminator_layer(w[8:16]) \n",
    "    discriminator_layer(w[16:24])\n",
    "    qml.RX(w[24], wires=4)\n",
    "    qml.RY(w[25], wires=4)\n",
    "    qml.RZ(w[26], wires=4)\n",
    "    \n",
    "def discriminator_layer(w, **kwargs):\n",
    "    qml.RX(w[0], wires=0)\n",
    "    qml.RX(w[1], wires=1)\n",
    "    qml.RX(w[2], wires=4)\n",
    "    qml.RZ(w[3], wires=0)\n",
    "    qml.RZ(w[4], wires=1)\n",
    "    qml.RZ(w[5], wires=4)\n",
    "    qml.MultiRZ(w[6], wires=[0, 1])\n",
    "    qml.MultiRZ(w[7], wires=[1, 4])\n",
    "    # 8 weights"
   ]
  },
  {
   "cell_type": "code",
   "execution_count": null,
   "id": "sized-postage",
   "metadata": {},
   "outputs": [],
   "source": [
    "@qml.qnode(dev, interface='tf')\n",
    "def real_disc_circuit(angles, disc_weights):\n",
    "    real(angles)\n",
    "    discriminator(disc_weights)\n",
    "    return qml.expval(qml.PauliZ(4))\n",
    "\n",
    "@qml.qnode(dev, interface='tf')\n",
    "def gen_disc_circuit(gen_weights, disc_weights):\n",
    "    generator(gen_weights)\n",
    "    discriminator(disc_weights)\n",
    "    return qml.expval(qml.PauliZ(4))    "
   ]
  },
  {
   "cell_type": "code",
   "execution_count": null,
   "id": "infrared-northern",
   "metadata": {},
   "outputs": [],
   "source": [
    "def prob_real_true(disc_weights):\n",
    "    true_disc_output = real_disc_circuit(angles, disc_weights)\n",
    "    # convert to probability\n",
    "    prob_real_true = (true_disc_output + 1) / 2.\n",
    "    return prob_real_true\n",
    "\n",
    "\n",
    "def prob_fake_true(gen_weights, disc_weights):\n",
    "    fake_disc_output = gen_disc_circuit(gen_weights, disc_weights)\n",
    "    # convert to probability\n",
    "    prob_fake_true = (fake_disc_output + 1) / 2.\n",
    "    return prob_fake_true\n",
    "\n",
    "\n",
    "def disc_cost(disc_weights):\n",
    "    cost = prob_fake_true(gen_weights, disc_weights) - prob_real_true(disc_weights)\n",
    "    return cost\n",
    "\n",
    "\n",
    "def gen_cost(gen_weights):\n",
    "    return -prob_fake_true(gen_weights, disc_weights)"
   ]
  },
  {
   "cell_type": "code",
   "execution_count": null,
   "id": "dangerous-adventure",
   "metadata": {},
   "outputs": [],
   "source": [
    "np.random.seed(42)\n",
    "eps = 1e-2\n",
    "init_gen_weights = np.array([np.pi] + [0] * 44) + \\\n",
    "                   np.random.normal(scale=eps, size=(45,))\n",
    "init_disc_weights = np.random.normal(size=(27,))\n",
    "\n",
    "gen_weights = tf.Variable(init_gen_weights)\n",
    "disc_weights = tf.Variable(init_disc_weights)"
   ]
  },
  {
   "cell_type": "code",
   "execution_count": null,
   "id": "little-complex",
   "metadata": {},
   "outputs": [],
   "source": [
    "print(\"Probability classify real as real: {:.3f} %\".format(prob_real_true(disc_weights).numpy()*100))\n",
    "print(\"Probability classify fake as real: {:.3f} %\".format(prob_fake_true(gen_weights, disc_weights).numpy()*100))"
   ]
  },
  {
   "cell_type": "code",
   "execution_count": null,
   "id": "sealed-given",
   "metadata": {},
   "outputs": [],
   "source": [
    "opt = tf.keras.optimizers.SGD(0.4)\n",
    "disc_loss = []\n",
    "gen_loss = []\n"
   ]
  },
  {
   "cell_type": "code",
   "execution_count": null,
   "id": "occupied-skiing",
   "metadata": {},
   "outputs": [],
   "source": [
    "def train_disc(it,disc_loss):\n",
    "    print(\"== Training discriminator\")\n",
    "    cost = lambda: disc_cost(disc_weights)\n",
    "\n",
    "    for step in range(it+1):\n",
    "        opt.minimize(cost, disc_weights)\n",
    "        cost_val = cost().numpy()\n",
    "        disc_loss += [cost_val]\n",
    "        #if step % int((it/5)) == 0:    \n",
    "        if step % 2 == 0:    \n",
    "            print(\"Step {}: cost = {:.6f}\".format(step, cost_val))\n",
    "            print(\"Probability classify real as real: {:.3f} %\".format(prob_real_true(disc_weights).numpy()*100))\n",
    "            print(\"Probability classify fake as real: {:.3f} %\".format(prob_fake_true(gen_weights, disc_weights).numpy()*100))\n",
    "            print(\"\\n\")"
   ]
  },
  {
   "cell_type": "code",
   "execution_count": null,
   "id": "oriental-solid",
   "metadata": {},
   "outputs": [],
   "source": [
    "def train_gen(it,gen_loss):\n",
    "    print(\"== Training generator\")\n",
    "    cost = lambda: gen_cost(gen_weights)\n",
    "\n",
    "    for step in range(it+1):\n",
    "        opt.minimize(cost, gen_weights)\n",
    "        cost_val = cost().numpy()\n",
    "        gen_loss += [cost_val]\n",
    "        #if step % int((it/5)) == 0:    \n",
    "        if step % 2 == 0:\n",
    "            print(\"Step {}: Probability classify fake as real = {:.3f} %\".format(step, abs(cost_val*100)))"
   ]
  },
  {
   "cell_type": "code",
   "execution_count": null,
   "id": "employed-argument",
   "metadata": {
    "scrolled": false
   },
   "outputs": [],
   "source": [
    "train_disc(10,disc_loss)\n",
    "train_gen(5,gen_loss)"
   ]
  },
  {
   "cell_type": "code",
   "execution_count": null,
   "id": "organizational-scoop",
   "metadata": {},
   "outputs": [],
   "source": [
    "train_disc(10,disc_loss)\n",
    "train_gen(5,gen_loss)"
   ]
  },
  {
   "cell_type": "code",
   "execution_count": null,
   "id": "received-attraction",
   "metadata": {},
   "outputs": [],
   "source": [
    "#train_disc(6,disc_loss)\n",
    "#train_gen(3,gen_loss)"
   ]
  },
  {
   "cell_type": "code",
   "execution_count": null,
   "id": "selected-lithuania",
   "metadata": {},
   "outputs": [],
   "source": [
    "plt.rcParams['figure.figsize'] = [10,5]\n",
    "\n",
    "fig, axs = plt.subplots(1, 2)\n",
    "ax1 = axs[0]\n",
    "ax2 = axs[1]\n",
    "\n",
    "ax1.plot(disc_loss)\n",
    "ax2.plot(gen_loss)"
   ]
  },
  {
   "cell_type": "code",
   "execution_count": null,
   "id": "smart-rocket",
   "metadata": {},
   "outputs": [],
   "source": [
    "obs = [qml.PauliX(0), qml.PauliY(0), qml.PauliZ(0),qml.PauliX(1), qml.PauliY(1), qml.PauliZ(1)]\n",
    "\n",
    "bloch_vector_real = qml.map(real, obs, dev, interface=\"tf\")\n",
    "bloch_vector_fake = qml.map(generator, obs, dev, interface=\"tf\")\n",
    "\n",
    "bv_real = bloch_vector_real(angles).numpy()\n",
    "bv_fake = bloch_vector_fake(gen_weights).numpy()\n",
    "difference = np.absolute(bv_real - bv_fake)\n",
    "\n",
    "x1,y1,z1,x2,y2,z2=bv_real\n",
    "X1,Y1,Z1,X2,Y2,Z2=bv_fake\n",
    "d1,d2,d3,d4,d5,d6=difference\n",
    "\n",
    "print(\"Real Bloch vector:      Q1=[{0:.3f}, {1:.3f}, {2:.3f}] \\t Q2=[{3:.3f}, {4:.3f}, {5:.3f}]\".format(x1,y1,z1,x2,y2,z2))\n",
    "print(\"Generator Bloch vector: Q1=[{0:.3f}, {1:.3f}, {2:.3f}] \\t Q2=[{3:.3f}, {4:.3f}, {5:.3f}]\".format(X1,Y1,Z1,X2,Y2,Z2))\n",
    "print(\"Difference:             Q1=[{0:.3f}, {1:.3f}, {2:.3f}] \\t Q2=[{3:.3f}, {4:.3f}, {5:.3f}]\".format(d1,d2,d3,d4,d5,d6))"
   ]
  },
  {
   "cell_type": "code",
   "execution_count": null,
   "id": "composite-chinese",
   "metadata": {},
   "outputs": [],
   "source": [
    "def infoQu(name,angles,bv_real,bv_fake):\n",
    "    theta,phi = angles\n",
    "    x,y,z=spherical_to_cartesian(theta,phi)\n",
    "    X,Y,Z = bv_real\n",
    "    THETA,PHI=cartesian_to_spherical(X,Y,Z)\n",
    "    Xf,Yf,Zf = bv_fake\n",
    "    THETAf,PHIf=cartesian_to_spherical(Xf,Yf,Zf)\n",
    "    \n",
    "    bloch = Bloch()\n",
    "    \n",
    "    vec_og=[x,y,z]\n",
    "    vec_real=[X,Y,Z]\n",
    "    vec_fake=[Xf,Yf,Zf]\n",
    "\n",
    "    bloch.add_vectors(vec_og)\n",
    "    bloch.add_vectors(vec_real)\n",
    "    bloch.add_vectors(vec_fake)\n",
    "    bloch.vector_color = list(colors[0:20:5])\n",
    "    bloch.show()\n",
    "\n",
    "    print(\"==   \"+ name +\"   ==\")\n",
    "    print(\"og   | theta,phi: {0:.3f},{1:.3f}\".format(theta,phi))\n",
    "    print(\"real | THETA,PHI: {0:.3f},{1:.3f}\".format(THETA,PHI))\n",
    "    print(\"fake | THETA,PHI: {0:.3f},{1:.3f}\".format(THETAf,PHIf))\n",
    "    print(\"      ______________________________\")\n",
    "    print(\"og   | x,y,z: {0:.3f} {1:.3f} {2:.3f}\".format(x,y,z))\n",
    "    print(\"real | X,Y,Z: {0:.3f} {1:.3f} {2:.3f}\".format(X,Y,Z))\n",
    "    print(\"fake | X,Y,Z: {0:.3f} {1:.3f} {2:.3f}\".format(Xf,Yf,Zf))"
   ]
  },
  {
   "cell_type": "code",
   "execution_count": null,
   "id": "miniature-shoot",
   "metadata": {
    "scrolled": false
   },
   "outputs": [],
   "source": [
    "infoQu(\"Q1\",angles[:2],bv_real[:3],bv_fake[:3])\n",
    "infoQu(\"Q2\",angles[2:],bv_real[3:],bv_fake[3:])"
   ]
  },
  {
   "cell_type": "code",
   "execution_count": null,
   "id": "effective-orientation",
   "metadata": {},
   "outputs": [],
   "source": [
    "qml.drawer.use_style('black_white')\n",
    "#print(qml.draw(real_disc_circuit, max_length=80)(angles,disc_weights))\n",
    "print(qml.draw_mpl(real_disc_circuit)(angles,disc_weights))"
   ]
  },
  {
   "cell_type": "code",
   "execution_count": null,
   "id": "entertaining-lancaster",
   "metadata": {},
   "outputs": [],
   "source": [
    "#print(qml.draw(gen_disc_circuit, max_length=80)(gen_weights,disc_weights))\n",
    "print(qml.draw_mpl(gen_disc_circuit)(gen_weights, disc_weights))"
   ]
  },
  {
   "cell_type": "code",
   "execution_count": null,
   "id": "recognized-bronze",
   "metadata": {},
   "outputs": [],
   "source": []
  },
  {
   "cell_type": "markdown",
   "id": "correct-warner",
   "metadata": {},
   "source": [
    "Inspiration:\n",
    "- https://arxiv.org/pdf/1804.08641.pdf\n",
    "- https://pennylane.ai/qml/demos/tutorial_QGAN.html\n",
    "- https://nbviewer.org/github/laurgao/qgan/blob/main/QGAN2.ipynb\n",
    "\n",
    "More inpiration:\n",
    "- https://www.nature.com/articles/ncomms5213.pdf\n",
    "- https://arxiv.org/pdf/1704.05018.pdf\n",
    "- https://arxiv.org/pdf/1801.01053.pdf\n",
    "- https://arxiv.org/pdf/1804.00633.pdf\n",
    "- https://arxiv.org/pdf/1803.11537.pdf"
   ]
  }
 ],
 "metadata": {
  "kernelspec": {
   "display_name": "Python 3",
   "language": "python",
   "name": "python3"
  },
  "language_info": {
   "codemirror_mode": {
    "name": "ipython",
    "version": 3
   },
   "file_extension": ".py",
   "mimetype": "text/x-python",
   "name": "python",
   "nbconvert_exporter": "python",
   "pygments_lexer": "ipython3",
   "version": "3.8.5"
  }
 },
 "nbformat": 4,
 "nbformat_minor": 5
}
