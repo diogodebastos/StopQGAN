{
 "cells": [
  {
   "cell_type": "markdown",
   "id": "opposite-sentence",
   "metadata": {},
   "source": [
    "# Generating stop CMS signals using QGANs"
   ]
  },
  {
   "cell_type": "markdown",
   "id": "competent-perry",
   "metadata": {},
   "source": [
    "Intro..."
   ]
  },
  {
   "cell_type": "markdown",
   "id": "basic-condition",
   "metadata": {},
   "source": [
    "## Software needed"
   ]
  },
  {
   "cell_type": "markdown",
   "id": "fossil-beads",
   "metadata": {},
   "source": [
    "%%capture\n",
    "!pip install qiskit\n",
    "!pip install pandas\n",
    "!pip install sklearn\n",
    "!pip install matplotlib\n",
    "!pip install uproot awkward\n",
    "!pip install alive-progress\n",
    "!pip install qiskit[machine-learning]"
   ]
  },
  {
   "cell_type": "markdown",
   "id": "polyphonic-grave",
   "metadata": {},
   "source": [
    "\n",
    "## Setup"
   ]
  },
  {
   "cell_type": "code",
   "execution_count": 1,
   "id": "champion-religious",
   "metadata": {},
   "outputs": [],
   "source": [
    "#pip install 'qiskit-machine-learning[torch]'"
   ]
  },
  {
   "cell_type": "code",
   "execution_count": 2,
   "id": "sophisticated-bride",
   "metadata": {},
   "outputs": [],
   "source": [
    "import uproot\n",
    "\n",
    "import random\n",
    "import numpy as np\n",
    "import pandas as pd\n",
    "import matplotlib.pyplot as plt\n",
    "#%matplotlib inline\n",
    "\n",
    "from qiskit import QuantumRegister, QuantumCircuit, BasicAer\n",
    "from qiskit.circuit.library import TwoLocal\n",
    "\n",
    "from qiskit.utils import QuantumInstance, algorithm_globals\n",
    "from qiskit_machine_learning.algorithms import NumPyDiscriminator, PyTorchDiscriminator, QGAN\n",
    "\n",
    "seed = 42\n",
    "np.random.seed = seed\n",
    "algorithm_globals.random_seed = seed"
   ]
  },
  {
   "cell_type": "code",
   "execution_count": 3,
   "id": "expanded-leave",
   "metadata": {},
   "outputs": [
    {
     "data": {
      "text/html": [
       "<div>\n",
       "<style scoped>\n",
       "    .dataframe tbody tr th:only-of-type {\n",
       "        vertical-align: middle;\n",
       "    }\n",
       "\n",
       "    .dataframe tbody tr th {\n",
       "        vertical-align: top;\n",
       "    }\n",
       "\n",
       "    .dataframe thead th {\n",
       "        text-align: right;\n",
       "    }\n",
       "</style>\n",
       "<table border=\"1\" class=\"dataframe\">\n",
       "  <thead>\n",
       "    <tr style=\"text-align: right;\">\n",
       "      <th></th>\n",
       "      <th>XS</th>\n",
       "      <th>Nevt</th>\n",
       "      <th>Event</th>\n",
       "      <th>weight</th>\n",
       "      <th>Jet1Pt</th>\n",
       "      <th>Met</th>\n",
       "      <th>mt</th>\n",
       "      <th>LepPt</th>\n",
       "      <th>LepEta</th>\n",
       "      <th>LepChg</th>\n",
       "      <th>HT</th>\n",
       "      <th>NbLoose</th>\n",
       "      <th>Njet</th>\n",
       "      <th>JetHBpt</th>\n",
       "      <th>DrJetHBLep</th>\n",
       "      <th>JetHBDeepCSV</th>\n",
       "      <th>BDT</th>\n",
       "    </tr>\n",
       "  </thead>\n",
       "  <tbody>\n",
       "    <tr>\n",
       "      <th>0</th>\n",
       "      <td>0.347</td>\n",
       "      <td>87155.0</td>\n",
       "      <td>374123372</td>\n",
       "      <td>1.925884e-06</td>\n",
       "      <td>328.250</td>\n",
       "      <td>338.813507</td>\n",
       "      <td>32.445465</td>\n",
       "      <td>9.298288</td>\n",
       "      <td>-1.311279</td>\n",
       "      <td>1.0</td>\n",
       "      <td>385.87500</td>\n",
       "      <td>0.0</td>\n",
       "      <td>2.0</td>\n",
       "      <td>57.62500</td>\n",
       "      <td>2.036685</td>\n",
       "      <td>0.101501</td>\n",
       "      <td>-0.040352</td>\n",
       "    </tr>\n",
       "    <tr>\n",
       "      <th>1</th>\n",
       "      <td>0.347</td>\n",
       "      <td>87155.0</td>\n",
       "      <td>374123482</td>\n",
       "      <td>5.222981e-07</td>\n",
       "      <td>225.125</td>\n",
       "      <td>286.211121</td>\n",
       "      <td>10.798179</td>\n",
       "      <td>16.495022</td>\n",
       "      <td>-0.524292</td>\n",
       "      <td>1.0</td>\n",
       "      <td>225.12500</td>\n",
       "      <td>0.0</td>\n",
       "      <td>1.0</td>\n",
       "      <td>225.12500</td>\n",
       "      <td>3.967097</td>\n",
       "      <td>0.023834</td>\n",
       "      <td>-0.055420</td>\n",
       "    </tr>\n",
       "    <tr>\n",
       "      <th>2</th>\n",
       "      <td>0.347</td>\n",
       "      <td>87155.0</td>\n",
       "      <td>374123588</td>\n",
       "      <td>2.045012e-06</td>\n",
       "      <td>301.500</td>\n",
       "      <td>307.996582</td>\n",
       "      <td>20.827509</td>\n",
       "      <td>15.660460</td>\n",
       "      <td>-0.959717</td>\n",
       "      <td>-1.0</td>\n",
       "      <td>301.50000</td>\n",
       "      <td>0.0</td>\n",
       "      <td>1.0</td>\n",
       "      <td>301.50000</td>\n",
       "      <td>3.419575</td>\n",
       "      <td>0.027069</td>\n",
       "      <td>-0.033337</td>\n",
       "    </tr>\n",
       "    <tr>\n",
       "      <th>3</th>\n",
       "      <td>0.347</td>\n",
       "      <td>87155.0</td>\n",
       "      <td>374123626</td>\n",
       "      <td>1.607914e-06</td>\n",
       "      <td>356.250</td>\n",
       "      <td>287.643860</td>\n",
       "      <td>53.294586</td>\n",
       "      <td>4.579830</td>\n",
       "      <td>-1.618896</td>\n",
       "      <td>1.0</td>\n",
       "      <td>356.25000</td>\n",
       "      <td>0.0</td>\n",
       "      <td>1.0</td>\n",
       "      <td>356.25000</td>\n",
       "      <td>1.642915</td>\n",
       "      <td>0.020233</td>\n",
       "      <td>-0.033937</td>\n",
       "    </tr>\n",
       "    <tr>\n",
       "      <th>4</th>\n",
       "      <td>0.347</td>\n",
       "      <td>87155.0</td>\n",
       "      <td>374123630</td>\n",
       "      <td>7.602142e-07</td>\n",
       "      <td>272.500</td>\n",
       "      <td>280.310059</td>\n",
       "      <td>23.213980</td>\n",
       "      <td>15.694098</td>\n",
       "      <td>0.392944</td>\n",
       "      <td>1.0</td>\n",
       "      <td>444.12500</td>\n",
       "      <td>0.0</td>\n",
       "      <td>3.0</td>\n",
       "      <td>116.62500</td>\n",
       "      <td>1.480006</td>\n",
       "      <td>0.053009</td>\n",
       "      <td>-0.088034</td>\n",
       "    </tr>\n",
       "    <tr>\n",
       "      <th>...</th>\n",
       "      <td>...</td>\n",
       "      <td>...</td>\n",
       "      <td>...</td>\n",
       "      <td>...</td>\n",
       "      <td>...</td>\n",
       "      <td>...</td>\n",
       "      <td>...</td>\n",
       "      <td>...</td>\n",
       "      <td>...</td>\n",
       "      <td>...</td>\n",
       "      <td>...</td>\n",
       "      <td>...</td>\n",
       "      <td>...</td>\n",
       "      <td>...</td>\n",
       "      <td>...</td>\n",
       "      <td>...</td>\n",
       "      <td>...</td>\n",
       "    </tr>\n",
       "    <tr>\n",
       "      <th>3446</th>\n",
       "      <td>0.347</td>\n",
       "      <td>87155.0</td>\n",
       "      <td>420187634</td>\n",
       "      <td>1.635522e-06</td>\n",
       "      <td>275.750</td>\n",
       "      <td>322.343079</td>\n",
       "      <td>147.370346</td>\n",
       "      <td>18.416704</td>\n",
       "      <td>0.764893</td>\n",
       "      <td>1.0</td>\n",
       "      <td>449.25000</td>\n",
       "      <td>1.0</td>\n",
       "      <td>3.0</td>\n",
       "      <td>124.62500</td>\n",
       "      <td>1.259977</td>\n",
       "      <td>0.156128</td>\n",
       "      <td>0.066372</td>\n",
       "    </tr>\n",
       "    <tr>\n",
       "      <th>3447</th>\n",
       "      <td>0.347</td>\n",
       "      <td>87155.0</td>\n",
       "      <td>420187720</td>\n",
       "      <td>2.002629e-06</td>\n",
       "      <td>403.500</td>\n",
       "      <td>413.531799</td>\n",
       "      <td>12.847763</td>\n",
       "      <td>8.921799</td>\n",
       "      <td>1.460449</td>\n",
       "      <td>-1.0</td>\n",
       "      <td>403.50000</td>\n",
       "      <td>0.0</td>\n",
       "      <td>1.0</td>\n",
       "      <td>403.50000</td>\n",
       "      <td>4.561334</td>\n",
       "      <td>0.038330</td>\n",
       "      <td>0.166194</td>\n",
       "    </tr>\n",
       "    <tr>\n",
       "      <th>3448</th>\n",
       "      <td>0.347</td>\n",
       "      <td>87155.0</td>\n",
       "      <td>421149834</td>\n",
       "      <td>9.760236e-07</td>\n",
       "      <td>300.750</td>\n",
       "      <td>317.044922</td>\n",
       "      <td>12.325584</td>\n",
       "      <td>19.914648</td>\n",
       "      <td>-0.663086</td>\n",
       "      <td>1.0</td>\n",
       "      <td>756.59375</td>\n",
       "      <td>0.0</td>\n",
       "      <td>5.0</td>\n",
       "      <td>227.50000</td>\n",
       "      <td>3.025809</td>\n",
       "      <td>0.060730</td>\n",
       "      <td>-0.094158</td>\n",
       "    </tr>\n",
       "    <tr>\n",
       "      <th>3449</th>\n",
       "      <td>0.347</td>\n",
       "      <td>87155.0</td>\n",
       "      <td>421149896</td>\n",
       "      <td>2.113200e-06</td>\n",
       "      <td>309.000</td>\n",
       "      <td>293.009735</td>\n",
       "      <td>39.851105</td>\n",
       "      <td>3.594147</td>\n",
       "      <td>0.234131</td>\n",
       "      <td>1.0</td>\n",
       "      <td>309.00000</td>\n",
       "      <td>0.0</td>\n",
       "      <td>1.0</td>\n",
       "      <td>309.00000</td>\n",
       "      <td>3.003863</td>\n",
       "      <td>0.083862</td>\n",
       "      <td>0.053850</td>\n",
       "    </tr>\n",
       "    <tr>\n",
       "      <th>3450</th>\n",
       "      <td>0.347</td>\n",
       "      <td>87155.0</td>\n",
       "      <td>421150558</td>\n",
       "      <td>2.218124e-06</td>\n",
       "      <td>320.500</td>\n",
       "      <td>340.050690</td>\n",
       "      <td>158.953018</td>\n",
       "      <td>18.916368</td>\n",
       "      <td>1.662598</td>\n",
       "      <td>-1.0</td>\n",
       "      <td>451.65625</td>\n",
       "      <td>2.0</td>\n",
       "      <td>3.0</td>\n",
       "      <td>41.15625</td>\n",
       "      <td>3.148084</td>\n",
       "      <td>0.738281</td>\n",
       "      <td>-0.034790</td>\n",
       "    </tr>\n",
       "  </tbody>\n",
       "</table>\n",
       "<p>3451 rows × 17 columns</p>\n",
       "</div>"
      ],
      "text/plain": [
       "         XS     Nevt      Event        weight   Jet1Pt         Met  \\\n",
       "0     0.347  87155.0  374123372  1.925884e-06  328.250  338.813507   \n",
       "1     0.347  87155.0  374123482  5.222981e-07  225.125  286.211121   \n",
       "2     0.347  87155.0  374123588  2.045012e-06  301.500  307.996582   \n",
       "3     0.347  87155.0  374123626  1.607914e-06  356.250  287.643860   \n",
       "4     0.347  87155.0  374123630  7.602142e-07  272.500  280.310059   \n",
       "...     ...      ...        ...           ...      ...         ...   \n",
       "3446  0.347  87155.0  420187634  1.635522e-06  275.750  322.343079   \n",
       "3447  0.347  87155.0  420187720  2.002629e-06  403.500  413.531799   \n",
       "3448  0.347  87155.0  421149834  9.760236e-07  300.750  317.044922   \n",
       "3449  0.347  87155.0  421149896  2.113200e-06  309.000  293.009735   \n",
       "3450  0.347  87155.0  421150558  2.218124e-06  320.500  340.050690   \n",
       "\n",
       "              mt      LepPt    LepEta  LepChg         HT  NbLoose  Njet  \\\n",
       "0      32.445465   9.298288 -1.311279     1.0  385.87500      0.0   2.0   \n",
       "1      10.798179  16.495022 -0.524292     1.0  225.12500      0.0   1.0   \n",
       "2      20.827509  15.660460 -0.959717    -1.0  301.50000      0.0   1.0   \n",
       "3      53.294586   4.579830 -1.618896     1.0  356.25000      0.0   1.0   \n",
       "4      23.213980  15.694098  0.392944     1.0  444.12500      0.0   3.0   \n",
       "...          ...        ...       ...     ...        ...      ...   ...   \n",
       "3446  147.370346  18.416704  0.764893     1.0  449.25000      1.0   3.0   \n",
       "3447   12.847763   8.921799  1.460449    -1.0  403.50000      0.0   1.0   \n",
       "3448   12.325584  19.914648 -0.663086     1.0  756.59375      0.0   5.0   \n",
       "3449   39.851105   3.594147  0.234131     1.0  309.00000      0.0   1.0   \n",
       "3450  158.953018  18.916368  1.662598    -1.0  451.65625      2.0   3.0   \n",
       "\n",
       "        JetHBpt  DrJetHBLep  JetHBDeepCSV       BDT  \n",
       "0      57.62500    2.036685      0.101501 -0.040352  \n",
       "1     225.12500    3.967097      0.023834 -0.055420  \n",
       "2     301.50000    3.419575      0.027069 -0.033337  \n",
       "3     356.25000    1.642915      0.020233 -0.033937  \n",
       "4     116.62500    1.480006      0.053009 -0.088034  \n",
       "...         ...         ...           ...       ...  \n",
       "3446  124.62500    1.259977      0.156128  0.066372  \n",
       "3447  403.50000    4.561334      0.038330  0.166194  \n",
       "3448  227.50000    3.025809      0.060730 -0.094158  \n",
       "3449  309.00000    3.003863      0.083862  0.053850  \n",
       "3450   41.15625    3.148084      0.738281 -0.034790  \n",
       "\n",
       "[3451 rows x 17 columns]"
      ]
     },
     "metadata": {},
     "output_type": "display_data"
    }
   ],
   "source": [
    "path = \"/Users/ketchum/Desktop/STOP_nTuples/nTuples17_nanoAOD_v2021-10-15_test/\"\n",
    "process = \"T2DegStop_550_520_bdt\"\n",
    "#process = \"WJetsToLNu_HT200to400_bdt\"\n",
    "treename=\"bdttree\"\n",
    "\n",
    "myFeatures = [\"Jet1Pt\", \"Met\", \"mt\", \"LepPt\", \"LepEta\", \"LepChg\", \"HT\", \"NbLoose\",\"Njet\", \"JetHBpt\", \"DrJetHBLep\", \"JetHBDeepCSV\",\"BDT\"]\n",
    "branches = [\"XS\",\"Nevt\",\"Event\",\"weight\"]\n",
    "branches.extend(myFeatures)\n",
    "\n",
    "preSel = \"(LepPt < 30) & (Met > 280) & (HT > 200) & (Jet1Pt > 110) & ((DPhiJet1Jet2 < 2.5) | (Jet2Pt < 60)) & (isTight == 1)\"\n",
    "\n",
    "processTree = uproot.open(path+process+\".root:\"+treename)\n",
    "processDict = processTree.arrays(branches,preSel,library=\"np\")\n",
    "\n",
    "processDF = pd.DataFrame(processDict)\n",
    "display(processDF)"
   ]
  },
  {
   "cell_type": "code",
   "execution_count": 4,
   "id": "changing-working",
   "metadata": {},
   "outputs": [
    {
     "data": {
      "text/plain": [
       "(array([  0.,  42., 155., 165., 138., 101.,  88.,  85.,  51.,  52.,  40.,\n",
       "         30.,  22.,  17.]),\n",
       " array([ 0.,  2.,  4.,  6.,  8., 10., 12., 14., 16., 18., 20., 22., 24.,\n",
       "        26., 28.]),\n",
       " <BarContainer object of 14 artists>)"
      ]
     },
     "execution_count": 4,
     "metadata": {},
     "output_type": "execute_result"
    },
    {
     "data": {
      "image/png": "[encoded data removed]",
      "text/plain": [
       "<Figure size 432x288 with 1 Axes>"
      ]
     },
     "metadata": {
      "needs_background": "light"
     },
     "output_type": "display_data"
    }
   ],
   "source": [
    "feature = processDict[\"LepPt\"]\n",
    "bounds = np.array([0.0, 30.0])\n",
    "#feature = processDict[\"mt\"]\n",
    "#bounds = np.array([0.0, 160.0])\n",
    "\n",
    "num_qubits = [4]\n",
    "k = len(num_qubits)\n",
    "\n",
    "n_samples=len(feature)\n",
    "n_samples=1000\n",
    "#n_samples=2048\n",
    "#n_samples=2^num_qubits[0]\n",
    "real_data = feature[:n_samples]\n",
    "\n",
    "n_bins=round(bounds[1]/2**num_qubits[0])\n",
    "\n",
    "binning=np.arange(bounds[0],bounds[1],n_bins)\n",
    "plt.hist(real_data,binning)"
   ]
  },
  {
   "cell_type": "code",
   "execution_count": 5,
   "id": "bridal-adaptation",
   "metadata": {},
   "outputs": [],
   "source": [
    "# Set number of training epochs\n",
    "# Note: The algorithm's runtime can be shortened by reducing the number of training epochs.\n",
    "num_epochs = 30\n",
    "# Batch size\n",
    "batch_size = 50\n",
    "\n",
    "# Initialize qGAN\n",
    "qgan = QGAN(real_data, bounds, num_qubits, batch_size, num_epochs, snapshot_dir=None)\n",
    "qgan.seed = seed\n",
    "# Set quantum instance to run the quantum generator\n",
    "quantum_instance = QuantumInstance(\n",
    "    backend=BasicAer.get_backend(\"statevector_simulator\"), seed_transpiler=seed, seed_simulator=seed\n",
    ")\n",
    "\n",
    "# Set entangler map\n",
    "entangler_map = [[0, 1]]\n",
    "\n",
    "\n",
    "# Set an initial state for the generator circuit as a uniform distribution\n",
    "# This corresponds to applying Hadamard gates on all qubits\n",
    "init_dist = QuantumCircuit(sum(num_qubits))\n",
    "init_dist.h(init_dist.qubits)\n",
    "\n",
    "# Set the ansatz circuit\n",
    "ansatz = TwoLocal(int(np.sum(num_qubits)), \"ry\", \"cz\", entanglement=entangler_map, reps=1)\n",
    "\n",
    "# Set generator's initial parameters - in order to reduce the training time and hence the\n",
    "# total running time for this notebook\n",
    "#init_params = [3.0, 1.0, 0.6, 1.6]\n",
    "\n",
    "# You can increase the number of training epochs and use random initial parameters.\n",
    "init_params = np.random.rand(ansatz.num_parameters_settable) * 2 * np.pi\n",
    "\n",
    "init_params = [0.45, 3.97, 5.55, 5.92, 5.76, 1.19, 1.14, 4.46]\n",
    "\n",
    "# Set generator circuit by adding the initial distribution infront of the ansatz\n",
    "g_circuit = ansatz.compose(init_dist, front=True)\n",
    "\n",
    "# Set quantum generator\n",
    "qgan.set_generator(generator_circuit=g_circuit, generator_init_params=init_params)\n",
    "# The parameters have an order issue that following is a temp. workaround\n",
    "qgan._generator._free_parameters = sorted(g_circuit.parameters, key=lambda p: p.name)\n",
    "# Set classical discriminator neural network\n",
    "discriminator = NumPyDiscriminator(len(num_qubits))\n",
    "#discriminator = PyTorchDiscriminator(len(num_qubits))\n",
    "qgan.set_discriminator(discriminator)"
   ]
  },
  {
   "cell_type": "code",
   "execution_count": 6,
   "id": "american-prime",
   "metadata": {},
   "outputs": [],
   "source": [
    "# Run qGAN\n",
    "result = qgan.run(quantum_instance)"
   ]
  },
  {
   "cell_type": "code",
   "execution_count": 7,
   "id": "smoking-smooth",
   "metadata": {},
   "outputs": [
    {
     "name": "stdout",
     "output_type": "stream",
     "text": [
      "Training results:\n",
      "  params_d : [ 0.38448079 -0.08669091  0.50338012 ...  0.07272757 -0.18884404\n",
      " -0.03819005]\n",
      "  params_g : [0.47013429 3.94978738 5.57007421 5.89995852 5.78044252 1.21018784\n",
      " 1.16007421 4.43995852]\n",
      "  loss_d : 0.6952\n",
      "  loss_g : [0.7234]\n",
      "  rel_entr : 2.7449\n"
     ]
    }
   ],
   "source": [
    "print(\"Training results:\")\n",
    "for key, value in result.items():\n",
    "    print(f\"  {key} : {value}\")"
   ]
  },
  {
   "cell_type": "code",
   "execution_count": 8,
   "id": "taken-usage",
   "metadata": {},
   "outputs": [
    {
     "data": {
      "image/png": "[encoded data removed]",
      "text/plain": [
       "<Figure size 432x360 with 1 Axes>"
      ]
     },
     "metadata": {
      "needs_background": "light"
     },
     "output_type": "display_data"
    }
   ],
   "source": [
    "# Plot progress w.r.t the generator's and the discriminator's loss function\n",
    "t_steps = np.arange(num_epochs)\n",
    "plt.figure(figsize=(6, 5))\n",
    "plt.title(\"Progress in the loss function\")\n",
    "plt.plot(\n",
    "    t_steps, qgan.g_loss, label=\"Generator loss function\", color=\"mediumvioletred\", linewidth=2\n",
    ")\n",
    "plt.plot(\n",
    "    t_steps, qgan.d_loss, label=\"Discriminator loss function\", color=\"rebeccapurple\", linewidth=2\n",
    ")\n",
    "plt.grid()\n",
    "plt.legend(loc=\"best\")\n",
    "plt.ylabel(\"loss\")\n",
    "plt.show()"
   ]
  },
  {
   "cell_type": "code",
   "execution_count": 9,
   "id": "auburn-volleyball",
   "metadata": {},
   "outputs": [
    {
     "data": {
      "image/png": "[encoded data removed]",
      "text/plain": [
       "<Figure size 432x360 with 1 Axes>"
      ]
     },
     "metadata": {
      "needs_background": "light"
     },
     "output_type": "display_data"
    }
   ],
   "source": [
    "# Plot progress w.r.t relative entropy\n",
    "plt.figure(figsize=(6, 5))\n",
    "plt.title(\"Relative Entropy\")\n",
    "plt.plot(\n",
    "    np.linspace(0, num_epochs, len(qgan.rel_entr)), qgan.rel_entr, color=\"mediumblue\", lw=4, ls=\":\"\n",
    ")\n",
    "plt.grid()\n",
    "plt.xlabel(\"time steps\")\n",
    "plt.ylabel(\"relative entropy\")\n",
    "plt.show()"
   ]
  },
  {
   "cell_type": "code",
   "execution_count": 10,
   "id": "understood-compromise",
   "metadata": {},
   "outputs": [],
   "source": [
    "real_data_final = np.round(real_data)\n",
    "real_data_final = real_data_final[real_data_final <= bounds[1]]\n",
    "temp = []\n",
    "#for i in range(int(bounds[0]),int(bounds[1]),n_bins):\n",
    "for i in range(int(bounds[1] + 1)):\n",
    "    temp += [np.sum(real_data_final == i)]\n",
    "real_data_final = np.array(temp / sum(temp))"
   ]
  },
  {
   "cell_type": "code",
   "execution_count": 11,
   "id": "cultural-turning",
   "metadata": {},
   "outputs": [],
   "source": [
    "samples_g, prob_g = qgan.generator.get_output(qgan.quantum_instance, shots=10000)\n",
    "samples_g = np.array(samples_g)\n",
    "samples_g = samples_g.flatten()\n",
    "num_bins = len(prob_g)"
   ]
  },
  {
   "cell_type": "code",
   "execution_count": 12,
   "id": "sublime-experiment",
   "metadata": {},
   "outputs": [
    {
     "data": {
      "image/png": "[encoded data removed]",
      "text/plain": [
       "<Figure size 432x288 with 1 Axes>"
      ]
     },
     "metadata": {
      "needs_background": "light"
     },
     "output_type": "display_data"
    }
   ],
   "source": [
    "plt.bar(samples_g, prob_g, label=\"train\", color=\"royalblue\")\n",
    "#plt.xticks(samples_g, size=15, rotation=90)\n",
    "plt.yticks(size=15)\n",
    "plt.grid()\n",
    "plt.xlabel(\"x\", size=15)\n",
    "plt.ylabel(\"Probability ($\\%$)\", size=15)\n",
    "plt.plot(\n",
    "    real_data_final,\n",
    "    \"-o\",\n",
    "    color=\"deepskyblue\",\n",
    "    label=\"target\",\n",
    "    linewidth=4,\n",
    "    markersize=12,\n",
    ")\n",
    "plt.legend(loc=\"best\")\n",
    "plt.show()"
   ]
  },
  {
   "cell_type": "code",
   "execution_count": 13,
   "id": "recorded-frank",
   "metadata": {},
   "outputs": [
    {
     "data": {
      "image/png": "[encoded data removed]",
      "text/plain": [
       "<Figure size 432x360 with 1 Axes>"
      ]
     },
     "metadata": {
      "needs_background": "light"
     },
     "output_type": "display_data"
    }
   ],
   "source": [
    "plt.figure(figsize=(6, 5))\n",
    "plt.title(\"CDF (Cumulative Distribution Function)\")\n",
    "\n",
    "plt.bar(samples_g, np.cumsum(prob_g), color=\"royalblue\", width=0.8, label=\"train\")\n",
    "plt.plot(\n",
    "    np.cumsum(real_data_final), \"-o\", label=\"target\", color=\"deepskyblue\", linewidth=4, markersize=12\n",
    ")\n",
    "plt.xticks(np.arange(min(samples_g), max(samples_g) + 1, 1.0))\n",
    "plt.grid()\n",
    "plt.xlabel(\"x\")\n",
    "plt.ylabel(\"p(x)\")\n",
    "plt.legend(loc=\"best\")\n",
    "plt.show()"
   ]
  },
  {
   "cell_type": "code",
   "execution_count": 14,
   "id": "vanilla-latitude",
   "metadata": {},
   "outputs": [
    {
     "data": {
      "text/html": [
       "<h3>Version Information</h3><table><tr><th>Qiskit Software</th><th>Version</th></tr><tr><td><code>qiskit-terra</code></td><td>0.19.1</td></tr><tr><td><code>qiskit-aer</code></td><td>0.10.2</td></tr><tr><td><code>qiskit-ignis</code></td><td>0.7.0</td></tr><tr><td><code>qiskit-ibmq-provider</code></td><td>0.18.3</td></tr><tr><td><code>qiskit</code></td><td>0.34.1</td></tr><tr><td><code>qiskit-machine-learning</code></td><td>0.3.1</td></tr><tr><th>System information</th></tr><tr><td>Python version</td><td>3.8.5</td></tr><tr><td>Python compiler</td><td>Clang 10.0.0 </td></tr><tr><td>Python build</td><td>default, Sep  4 2020 02:22:02</td></tr><tr><td>OS</td><td>Darwin</td></tr><tr><td>CPUs</td><td>4</td></tr><tr><td>Memory (Gb)</td><td>16.0</td></tr><tr><td colspan='2'>Tue Jun 14 17:10:06 2022 WEST</td></tr></table>"
      ],
      "text/plain": [
       "<IPython.core.display.HTML object>"
      ]
     },
     "metadata": {},
     "output_type": "display_data"
    },
    {
     "data": {
      "text/html": [
       "<div style='width: 100%; background-color:#d5d9e0;padding-left: 10px; padding-bottom: 10px; padding-right: 10px; padding-top: 5px'><h3>This code is a part of Qiskit</h3><p>&copy; Copyright IBM 2017, 2022.</p><p>This code is licensed under the Apache License, Version 2.0. You may<br>obtain a copy of this license in the LICENSE.txt file in the root directory<br> of this source tree or at http://www.apache.org/licenses/LICENSE-2.0.<p>Any modifications or derivative works of this code must retain this<br>copyright notice, and modified files need to carry a notice indicating<br>that they have been altered from the originals.</p></div>"
      ],
      "text/plain": [
       "<IPython.core.display.HTML object>"
      ]
     },
     "metadata": {},
     "output_type": "display_data"
    }
   ],
   "source": [
    "import qiskit.tools.jupyter\n",
    "\n",
    "%qiskit_version_table\n",
    "%qiskit_copyright"
   ]
  }
 ],
 "metadata": {
  "kernelspec": {
   "display_name": "Python 3",
   "language": "python",
   "name": "python3"
  },
  "language_info": {
   "codemirror_mode": {
    "name": "ipython",
    "version": 3
   },
   "file_extension": ".py",
   "mimetype": "text/x-python",
   "name": "python",
   "nbconvert_exporter": "python",
   "pygments_lexer": "ipython3",
   "version": "3.8.5"
  }
 },
 "nbformat": 4,
 "nbformat_minor": 5
}
